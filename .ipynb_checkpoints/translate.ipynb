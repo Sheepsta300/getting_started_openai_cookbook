{
 "cells": [
  {
   "metadata": {},
   "cell_type": "markdown",
   "source": [
    "## **AzureTranslateTool Documentation**\n",
    "\n",
    "### Overview\n",
    "\n",
    "`AzureTranslateTool` is a tool designed to interface with the **Azure Cognitive Services Translator API**. It allows users to translate text between different languages using the Translator API's **RESTful interface**. This tool is implemented as part of the LangChain framework and can be integrated into larger workflows where multilingual text processing is required.\n",
    "\n",
    "The Translator API is a cloud-based service provided by Azure that enables real-time text translation. It supports over **70 languages** and provides advanced features such as:\n",
    "\n",
    "- Text translation\n",
    "- Transliteration\n",
    "- Detection of source language\n",
    "- Bilingual dictionary lookup\n",
    "- Sentence alignment\n",
    "\n",
    "This tool is ideal for building multilingual applications and is flexible enough to be used in various domains such as content localization, communication tools, and customer support services.\n",
    "\n",
    "---\n",
    "\n",
    "### **Installation & Setup**\n",
    "\n",
    "To use the `AzureTranslateTool`, follow these steps to set up the Translator API from Azure. If you don't have an Azure account, you can [create a free Azure account here](https://azure.microsoft.com/free/).\n",
    "\n",
    "#### 1. **Create a Translator Resource in Azure:**\n",
    "   - Navigate to the **Azure Portal** and create a **Translator resource**.\n",
    "   - After creating the resource, you will get access to the **API key** and the **endpoint URL**. You’ll need these for authentication.\n",
    "\n",
    "#### 2. **Install Required Python Libraries:**\n",
    "   \n",
    "   The tool requires certain Python libraries to function properly. Install the required libraries using the following command:\n",
    "\n",
    "   ```bash\n",
    "   pip install requests\n",
    "   pip install azure-cognitiveservices-speech\n"
   ],
   "id": "906c3fbc217abd39"
  },
  {
   "metadata": {},
   "cell_type": "markdown",
   "source": [
    "Example:\n",
    "\n",
    "export AZURE_COGS_KEY=\"your-key-here\"\n",
    "\n",
    "export AZURE_COGS_REGION=\"your-region-here\"\n",
    "\n",
    "export AZURE_TRANSLATOR_ENDPOINT=\"your-endpoint-url-here\"\n"
   ],
   "id": "2add7d27b65af9ef"
  },
  {
   "metadata": {},
   "cell_type": "markdown",
   "source": [
    "Class Details:\n",
    "The AzureTranslateTool class is implemented as follows:"
   ],
   "id": "667bb1a6c17e71eb"
  },
  {
   "metadata": {},
   "cell_type": "code",
   "outputs": [],
   "execution_count": null,
   "source": [
    "from langchain_core.tools import BaseTool\n",
    "\n",
    "class AzureTranslateTool(BaseTool):\n",
    "    \"\"\"\n",
    "    A wrapper around Azure Cognitive Services Translator API to translate text between languages.\n",
    "    \"\"\"\n",
    "\n",
    "    azure_cogs_key: str = \"\"  #: :meta private:\n",
    "    azure_cogs_region: str = \"\"  #: :meta private:\n",
    "    translator_endpoint: str = \"\"  #: :meta private:\n",
    "\n",
    "    name: str = \"azure_cognitive_services_translator\"\n",
    "    description: str = (\n",
    "        \"A wrapper around Azure Cognitive Services Translator. \"\n",
    "        \"Useful for translating text between languages.\"\n",
    "    )\n",
    "\n",
    "    def _translate_text(self, text: str, to_language: str) -> str:\n",
    "        import requests\n",
    "        path = '/translate?api-version=3.0'\n",
    "        constructed_url = self.translator_endpoint + path\n",
    "        headers = {\n",
    "            'Ocp-Apim-Subscription-Key': self.azure_cogs_key,\n",
    "            'Ocp-Apim-Subscription-Region': self.azure_cogs_region,\n",
    "            'Content-type': 'application/json',\n",
    "        }\n",
    "        body = [{'text': text}]\n",
    "        params = {'to': to_language}\n",
    "\n",
    "        response = requests.post(constructed_url, headers=headers, json=body, params=params)\n",
    "        response_json = response.json()\n",
    "\n",
    "        if response.status_code == 200:\n",
    "            translated_text = response_json[0]['translations'][0]['text']\n",
    "            return translated_text\n",
    "        else:\n",
    "            logger.error(f\"Translation failed with status code {response.status_code}: {response_json}\")\n",
    "            raise RuntimeError(f\"Error during translation: {response_json}\")\n"
   ],
   "id": "b34e508da28a07f7"
  },
  {
   "metadata": {},
   "cell_type": "markdown",
   "source": "\n",
   "id": "504e1f130701b4f8"
  }
 ],
 "metadata": {
  "kernelspec": {
   "display_name": "Python 3",
   "language": "python",
   "name": "python3"
  },
  "language_info": {
   "codemirror_mode": {
    "name": "ipython",
    "version": 2
   },
   "file_extension": ".py",
   "mimetype": "text/x-python",
   "name": "python",
   "nbconvert_exporter": "python",
   "pygments_lexer": "ipython2",
   "version": "2.7.6"
  }
 },
 "nbformat": 4,
 "nbformat_minor": 5
}
