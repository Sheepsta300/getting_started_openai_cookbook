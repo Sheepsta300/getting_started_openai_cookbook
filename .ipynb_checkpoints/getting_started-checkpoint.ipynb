{
 "cells": [
  {
   "cell_type": "markdown",
   "id": "d808a92c-d36d-4291-a4ad-b12bceb62fec",
   "metadata": {},
   "source": [
    "<h1>Getting Started OpenAi with LangChain in Python Cookbook</h1>"
   ]
  },
  {
   "cell_type": "markdown",
   "id": "6689d50a-d463-4ad1-8968-180f93bd2f8e",
   "metadata": {},
   "source": [
    "The purpose of this notebook is to give a step by step explanation of how to get set-up with OpenAi and use available models through the LangChain Framework in Python. Furthermore, it will explain through examples how to implement models and available features."
   ]
  },
  {
   "cell_type": "markdown",
   "id": "b8202de6-7d14-44e6-b378-879d26f95ce3",
   "metadata": {},
   "source": [
    "<h2>Obtaining Keys and Endpoints</h2>"
   ]
  },
  {
   "cell_type": "markdown",
   "id": "3b21c348-6a01-41d4-9df5-0d1d633367ef",
   "metadata": {},
   "source": [
    "using the link - <a>https://azure.microsoft.com/en-us/pricing/purchase-options/azure-account</a> - one can sign up and create an OpenAI resource, giving access to all needed credentials."
   ]
  },
  {
   "cell_type": "markdown",
   "id": "697fdf3d-8ebe-48db-bb54-53d7ff195519",
   "metadata": {},
   "source": [
    "<h2>Installing and Importing Dependencies</h2>"
   ]
  },
  {
   "cell_type": "markdown",
   "id": "a54a6ef5-202f-4a81-8cbb-da6441808764",
   "metadata": {},
   "source": [
    "- install the most current version of LangChain and LangChain_OpenAi.\n",
    "- import libraries."
   ]
  },
  {
   "cell_type": "code",
   "execution_count": 26,
   "id": "23716db9-d8c8-4682-b662-0de8c185bd07",
   "metadata": {},
   "outputs": [],
   "source": [
    "!pip install -U langchain langchain_openai"
   ]
  },
  {
   "cell_type": "code",
   "execution_count": 88,
   "id": "035bd2cf-c045-4cdc-a0d1-f9bf60314f8d",
   "metadata": {},
   "outputs": [],
   "source": [
    "from langchain_core.messages import HumanMessage, SystemMessage\n",
    "from langchain_openai import AzureChatOpenAI\n",
    "import os\n",
    "import getpass #use getpass for entering any environment variables or keys"
   ]
  },
  {
   "cell_type": "markdown",
   "id": "46149db2-b280-45d5-b910-df1db63040bf",
   "metadata": {},
   "source": [
    "<h4>Set all required Environment Variables</h4>"
   ]
  },
  {
   "cell_type": "code",
   "execution_count": null,
   "id": "eaacb02d-3d3b-4b35-a46b-c6b309622482",
   "metadata": {},
   "outputs": [],
   "source": [
    "#API_KEY can be set as an environment variable securely like so\n",
    "os.environ[\"OPENAI_API_KEY\"] = getpass.getpass()\n",
    "#os.environ[\"OPENAI_API_ENDPOINT\"] = getpass.getpass()\n",
    "#os.environ[\"API_VERSION\"] = getpass.getpass()\n",
    "#..."
   ]
  },
  {
   "cell_type": "markdown",
   "id": "a43b7040-d6ab-4df8-8432-907eb1ca4099",
   "metadata": {},
   "source": [
    "<h2>Creating a Chat Model</h2>"
   ]
  },
  {
   "cell_type": "code",
   "execution_count": 94,
   "id": "74baa57a-6b35-403c-9902-2f5a9c7e2bd4",
   "metadata": {},
   "outputs": [],
   "source": [
    "model = AzureChatOpenAI(\n",
    "    openai_api_version=os.environ['API_VERSION'],  \n",
    "    azure_deployment='gpt-4o',\n",
    "    azure_endpoint=os.environ['OPENAI_API_ENDPOINT'])"
   ]
  },
  {
   "cell_type": "markdown",
   "id": "1a152eab-52e5-48f3-bc8f-0b410d65c7d0",
   "metadata": {},
   "source": [
    "<h4>Using Messages from the langchain_core.messages library allows the user to define messages for the model, as well as asign 'roles' to each of the message</h4>"
   ]
  },
  {
   "cell_type": "code",
   "execution_count": 130,
   "id": "57c6f2ae-b6d0-46e3-831a-ad5f77daf0bd",
   "metadata": {},
   "outputs": [],
   "source": [
    "messages = [\n",
    "    SystemMessage(content=\"Translate the following from German into English\"),\n",
    "    HumanMessage(content=\"Sie haben gerade Ihr erstes Kunstliche Itelligenz Model erstellt!\"),\n",
    "]"
   ]
  },
  {
   "cell_type": "code",
   "execution_count": 132,
   "id": "b6a40126-bede-46dc-8922-8721ac2f9c22",
   "metadata": {},
   "outputs": [],
   "source": [
    "response = model.invoke(messages)"
   ]
  },
  {
   "cell_type": "code",
   "execution_count": 134,
   "id": "876d40ef-a75f-4d62-bc0a-43de6b55ce30",
   "metadata": {},
   "outputs": [
    {
     "data": {
      "text/plain": [
       "'You have just created your first artificial intelligence model!'"
      ]
     },
     "execution_count": 134,
     "metadata": {},
     "output_type": "execute_result"
    }
   ],
   "source": [
    "response.content"
   ]
  },
  {
   "cell_type": "code",
   "execution_count": null,
   "id": "5e12a553-9d70-4e12-974c-c2e2b9a9bfde",
   "metadata": {},
   "outputs": [],
   "source": []
  }
 ],
 "metadata": {
  "kernelspec": {
   "display_name": "Python 3 (ipykernel)",
   "language": "python",
   "name": "python3"
  },
  "language_info": {
   "codemirror_mode": {
    "name": "ipython",
    "version": 3
   },
   "file_extension": ".py",
   "mimetype": "text/x-python",
   "name": "python",
   "nbconvert_exporter": "python",
   "pygments_lexer": "ipython3",
   "version": "3.11.8"
  }
 },
 "nbformat": 4,
 "nbformat_minor": 5
}
