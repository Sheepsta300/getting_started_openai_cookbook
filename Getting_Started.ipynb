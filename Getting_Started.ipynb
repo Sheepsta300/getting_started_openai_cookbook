{
 "cells": [
  {
   "cell_type": "code",
   "execution_count": null,
   "id": "initial_id",
   "metadata": {
    "collapsed": true
   },
   "outputs": [],
   "source": [
    ""
   ]
  },
  {
   "metadata": {},
   "cell_type": "markdown",
   "source": [
    "<h1># Getting Started with LangChain and Azure OpenAI in Python Cookbook\n",
    "\n",
    "The purpose of this notebook is to provide a step-by-step guide to getting set up with Azure OpenAI and using available models through the LangChain Framework in Python.  It will explain through examples how to implement models, embeddings, and configure the OpenAI assistant.\n",
    "</h1>"
   ],
   "id": "31d8febc6366de29"
  },
  {
   "metadata": {},
   "cell_type": "markdown",
   "source": "",
   "id": "ae6c33d6694c468b"
  },
  {
   "metadata": {},
   "cell_type": "markdown",
   "source": "<h2>Obtaining Keys and Endpoints</h2>",
   "id": "3e40f06503d1123f"
  },
  {
   "metadata": {},
   "cell_type": "markdown",
   "source": [
    "To use Azure OpenAI models, you need to obtain API keys and endpoints. You can sign up and create an Azure OpenAI resource using the following link:\n",
    "[Azure Pricing and Purchase Options](https://azure.microsoft.com/en-us/pricing/purchase-options/azure-account)"
   ],
   "id": "74086c9d0653df7f"
  },
  {
   "metadata": {},
   "cell_type": "markdown",
   "source": "<h2>Installing and Importing Dependencies</h2>",
   "id": "35632b3fc39a7984"
  },
  {
   "metadata": {},
   "cell_type": "markdown",
   "source": [
    "- First, install the most current version of LangChain and LangChain_OpenAI.\n",
    "- import libraries."
   ],
   "id": "11f05a5d0ffbd25f"
  },
  {
   "metadata": {},
   "cell_type": "markdown",
   "source": [
    "import embeddings\n",
    "import h4\n",
    "import use\n",
    "!pip install -U langchain langchain_openai"
   ],
   "id": "a8844429457beb12"
  },
  {
   "metadata": {
    "ExecuteTime": {
     "end_time": "2024-08-04T05:48:11.661267Z",
     "start_time": "2024-08-04T05:48:11.339720Z"
    }
   },
   "cell_type": "code",
   "source": [
    "from langchain_core.messages import HumanMessage, SystemMessage\n",
    "from langchain_openai import AzureChatOpenAI\n"
   ],
   "id": "5b920697896c590d",
   "outputs": [
    {
     "ename": "ModuleNotFoundError",
     "evalue": "No module named 'langchain_core'",
     "output_type": "error",
     "traceback": [
      "\u001B[1;31m---------------------------------------------------------------------------\u001B[0m",
      "\u001B[1;31mModuleNotFoundError\u001B[0m                       Traceback (most recent call last)",
      "Cell \u001B[1;32mIn[1], line 1\u001B[0m\n\u001B[1;32m----> 1\u001B[0m \u001B[38;5;28;01mfrom\u001B[39;00m \u001B[38;5;21;01mlangchain_core\u001B[39;00m\u001B[38;5;21;01m.\u001B[39;00m\u001B[38;5;21;01mmessages\u001B[39;00m \u001B[38;5;28;01mimport\u001B[39;00m HumanMessage, SystemMessage\n\u001B[0;32m      2\u001B[0m \u001B[38;5;28;01mfrom\u001B[39;00m \u001B[38;5;21;01mlangchain_openai\u001B[39;00m \u001B[38;5;28;01mimport\u001B[39;00m AzureChatOpenAI\n",
      "\u001B[1;31mModuleNotFoundError\u001B[0m: No module named 'langchain_core'"
     ]
    }
   ],
   "execution_count": 1
  },
  {
   "metadata": {},
   "cell_type": "markdown",
   "source": [
    "<h4>Set all required Environment Variables</h4>\n",
    "\n",
    "To securely manage your API keys and endpoints, store them in a `.env` file and load them into your application using the `python-dotenv` library.\n",
    "\n",
    "### Step 1: Create a `.env` File\n",
    "\n",
    "Create a file named `.env` in the root directory of your project. Add your Azure OpenAI API key and endpoint to this file:\n",
    "\n",
    "AZURE_OPENAI_API_KEY=your-azure-openai-api-key\n",
    "\n",
    "AZURE_OPENAI_API_ENDPOINT=your-azure-openai-api-endpoint\n",
    "\n",
    "AZURE_API_VERSION=your-api-version\n",
    "\n",
    "Replace `your-azure-openai-api-key`, `your-azure-openai-api-endpoint`, and `your-api-version` with your actual credentials.\n",
    "\n",
    "### Step 2: Install `python-dotenv`\n",
    "\n",
    "Ensure you have the `python-dotenv` library installed. If not, install it using pip:\n",
    "\n",
    "```python\n",
    "!pip install python-dotenv\n"
   ],
   "id": "78cee2ea47ec3a1d"
  },
  {
   "metadata": {},
   "cell_type": "markdown",
   "source": [
    "<h2>Step 3: Load Environment Variables</h2>\n",
    "Use the following code to load the environment variables from the .env file:"
   ],
   "id": "2bf5a0da65c6e31f"
  },
  {
   "metadata": {},
   "cell_type": "code",
   "outputs": [],
   "execution_count": null,
   "source": [
    "from dotenv import load_dotenv, find_dotenv\n",
    "import os\n",
    "\n",
    "# Load environment variables from .env file\n",
    "load_dotenv(find_dotenv())\n",
    "\n",
    "# Access the API key and endpoint from environment variables\n",
    "openai_api_key = os.getenv(\"AZURE_OPENAI_API_KEY\")\n",
    "azure_endpoint = os.getenv(\"AZURE_OPENAI_API_ENDPOINT\")\n",
    "api_version = os.getenv(\"AZURE_API_VERSION\")\n",
    "\n",
    "# Verify that the variables are loaded\n",
    "if not openai_api_key or not azure_endpoint or not api_version:\n",
    "    raise ValueError(\"Please ensure the AZURE_OPENAI_API_KEY, AZURE_OPENAI_API_ENDPOINT, and AZURE_API_VERSION environment variables are set\")\n"
   ],
   "id": "4367a6d78df4166c"
  },
  {
   "metadata": {},
   "cell_type": "markdown",
   "source": [
    "<h3>Example Usage</h3>\n",
    "Once the environment variables are set and loaded, you can use them in your code. For instance, to create a chat model with Azure OpenAI:"
   ],
   "id": "40dfa97259706063"
  },
  {
   "metadata": {
    "ExecuteTime": {
     "end_time": "2024-08-04T05:48:22.502703Z",
     "start_time": "2024-08-04T05:48:22.466694Z"
    }
   },
   "cell_type": "code",
   "source": [
    "from langchain_openai import AzureChatOpenAI\n",
    "\n",
    "model = AzureChatOpenAI(\n",
    "    openai_api_version=api_version,  \n",
    "    azure_deployment='gpt-4o',  # Adjust this as per your deployment details\n",
    "    azure_endpoint=azure_endpoint\n",
    ")\n",
    "\n",
    "print(\"Chat model created successfully.\")\n"
   ],
   "id": "78509a9f76c7ed39",
   "outputs": [
    {
     "ename": "ModuleNotFoundError",
     "evalue": "No module named 'langchain_openai'",
     "output_type": "error",
     "traceback": [
      "\u001B[1;31m---------------------------------------------------------------------------\u001B[0m",
      "\u001B[1;31mModuleNotFoundError\u001B[0m                       Traceback (most recent call last)",
      "Cell \u001B[1;32mIn[2], line 1\u001B[0m\n\u001B[1;32m----> 1\u001B[0m \u001B[38;5;28;01mfrom\u001B[39;00m \u001B[38;5;21;01mlangchain_openai\u001B[39;00m \u001B[38;5;28;01mimport\u001B[39;00m AzureChatOpenAI\n\u001B[0;32m      3\u001B[0m model \u001B[38;5;241m=\u001B[39m AzureChatOpenAI(\n\u001B[0;32m      4\u001B[0m     openai_api_version\u001B[38;5;241m=\u001B[39mapi_version,  \n\u001B[0;32m      5\u001B[0m     azure_deployment\u001B[38;5;241m=\u001B[39m\u001B[38;5;124m'\u001B[39m\u001B[38;5;124mgpt-4o\u001B[39m\u001B[38;5;124m'\u001B[39m,  \u001B[38;5;66;03m# Adjust this as per your deployment details\u001B[39;00m\n\u001B[0;32m      6\u001B[0m     azure_endpoint\u001B[38;5;241m=\u001B[39mazure_endpoint\n\u001B[0;32m      7\u001B[0m )\n\u001B[0;32m      9\u001B[0m \u001B[38;5;28mprint\u001B[39m(\u001B[38;5;124m\"\u001B[39m\u001B[38;5;124mChat model created successfully.\u001B[39m\u001B[38;5;124m\"\u001B[39m)\n",
      "\u001B[1;31mModuleNotFoundError\u001B[0m: No module named 'langchain_openai'"
     ]
    }
   ],
   "execution_count": 2
  },
  {
   "metadata": {},
   "cell_type": "markdown",
   "source": [
    "<h2>Creating a Chat Model</h2>\n",
    "Create a chat model using the `AzureChatOpenAI` class from the LangChain library:"
   ],
   "id": "ffd59243ea2d5b3a"
  },
  {
   "metadata": {},
   "cell_type": "code",
   "outputs": [],
   "execution_count": null,
   "source": [
    "model = AzureChatOpenAI(\n",
    "    openai_api_version=os.environ['AZURE_API_VERSION'],  \n",
    "    azure_deployment='gpt-4o',  # Adjust this as per your deployment details\n",
    "    azure_endpoint=os.environ['AZURE_OPENAI_API_ENDPOINT']\n",
    ")\n"
   ],
   "id": "edb3cf5fb3d5af16"
  },
  {
   "metadata": {},
   "cell_type": "markdown",
   "source": "Using Messages from the langchain_core.messages library allows the user to define messages for the model, as well as asign 'roles' to each of the message",
   "id": "5f3f8f3dce1d0085"
  },
  {
   "metadata": {},
   "cell_type": "code",
   "outputs": [],
   "execution_count": null,
   "source": [
    "messages = [\n",
    "    SystemMessage(content=\"Translate the following from German into English\"),\n",
    "    HumanMessage(content=\"Sie haben gerade Ihr erstes Kunstliche Itelligenz Model erstellt!\"),\n",
    "]"
   ],
   "id": "7175b1b1c425fb3a"
  },
  {
   "metadata": {},
   "cell_type": "code",
   "outputs": [],
   "execution_count": null,
   "source": "response = model.invoke(messages)",
   "id": "d62716de51902a84"
  },
  {
   "metadata": {},
   "cell_type": "code",
   "outputs": [],
   "execution_count": null,
   "source": "response.content",
   "id": "d6449fbbab472072"
  },
  {
   "metadata": {},
   "cell_type": "markdown",
   "source": "This ensures that your sensitive information like API keys and endpoints are not hard-coded in your notebook but securely managed through environment variables.",
   "id": "4fa4ea94449fa69f"
  },
  {
   "metadata": {},
   "cell_type": "markdown",
   "source": [
    "<h2> Working with Embeddings </h2>\n",
    "Create and use embeddings with the `AzureEmbeddings` class:"
   ],
   "id": "c6a40f9048684197"
  },
  {
   "metadata": {},
   "cell_type": "code",
   "outputs": [],
   "execution_count": null,
   "source": [
    "# Example of creating embeddings\n",
    "from langchain_openai import AzureEmbeddings\n",
    "import os\n",
    "\n",
    "# Ensure environment variables are set\n",
    "openai_api_key = os.getenv(\"AZURE_OPENAI_API_KEY\")\n",
    "azure_endpoint = os.getenv(\"AZURE_OPENAI_API_ENDPOINT\")\n",
    "\n",
    "if not openai_api_key or not azure_endpoint:\n",
    "    raise ValueError(\"Please set the AZURE_OPENAI_API_KEY and AZURE_OPENAI_API_ENDPOINT environment variables\")\n",
    "\n",
    "embeddings_model = AzureEmbeddings(\n",
    "    openai_api_key=openai_api_key,\n",
    "    azure_endpoint=azure_endpoint\n",
    ")\n",
    "\n",
    "texts = [\"Artificial Intelligence is transforming the world.\", \"LangChain is a useful framework for building LLM applications.\"]\n",
    "embeddings = embeddings_model.create_embeddings(texts)\n",
    "print(embeddings)\n"
   ],
   "id": "575706759ecf4b53"
  },
  {
   "metadata": {},
   "cell_type": "markdown",
   "source": [
    "<h2>Configuring OpenAI Assistant with Azure OpenAI</h2>\n",
    "<h4>Configure and use the OpenAI Assistant with Azure OpenAI:</h4>"
   ],
   "id": "be2fb77233b9405f"
  },
  {
   "metadata": {},
   "cell_type": "markdown",
   "source": "",
   "id": "28a42ed860bce09d"
  },
  {
   "metadata": {},
   "cell_type": "code",
   "outputs": [],
   "execution_count": null,
   "source": [
    "from langchain.agents.openai_assistant import OpenAIAssistant\n",
    "\n",
    "assistant = OpenAIAssistant(\n",
    "    api_key=os.getenv(\"AZURE_OPENAI_API_KEY\"),\n",
    "    endpoint=os.getenv(\"AZURE_OPENAI_API_ENDPOINT\"),\n",
    "    version=os.getenv(\"AZURE_API_VERSION\") \n",
    ")\n",
    "\n",
    "response = assistant.ask(\"What is the capital of France?\")\n",
    "print(response)\n"
   ],
   "id": "a02983885b949eb4"
  },
  {
   "metadata": {},
   "cell_type": "markdown",
   "source": "## Sample Use Cases\n",
   "id": "7991d3251f293cf1"
  }
 ],
 "metadata": {
  "kernelspec": {
   "display_name": "Python 3",
   "language": "python",
   "name": "python3"
  },
  "language_info": {
   "codemirror_mode": {
    "name": "ipython",
    "version": 2
   },
   "file_extension": ".py",
   "mimetype": "text/x-python",
   "name": "python",
   "nbconvert_exporter": "python",
   "pygments_lexer": "ipython2",
   "version": "2.7.6"
  }
 },
 "nbformat": 4,
 "nbformat_minor": 5
}
